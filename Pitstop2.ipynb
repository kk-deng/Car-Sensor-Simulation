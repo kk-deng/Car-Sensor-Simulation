{
 "metadata": {
  "language_info": {
   "codemirror_mode": {
    "name": "ipython",
    "version": 3
   },
   "file_extension": ".py",
   "mimetype": "text/x-python",
   "name": "python",
   "nbconvert_exporter": "python",
   "pygments_lexer": "ipython3",
   "version": "3.7.9"
  },
  "orig_nbformat": 2,
  "kernelspec": {
   "name": "python379jvsc74a57bd0b9265de25e7f12c4e5ae41868c22c06f0085fd1fe8bdf150e795ee47ff282b68",
   "display_name": "Python 3.7.9 64-bit ('base': conda)"
  }
 },
 "nbformat": 4,
 "nbformat_minor": 2,
 "cells": [
  {
   "cell_type": "code",
   "execution_count": 1,
   "metadata": {},
   "outputs": [
    {
     "output_type": "stream",
     "name": "stdout",
     "text": [
      "shuffling 50000 entries\n[48880, 21968, 22948, 1665, 27015, 21102, 12326, 13681, 45317, 6438]\nmade 500 samples with botsample 400 topsample 500\nmaxfreq=     4.00 M=  2000.00 V=   16.66 C=60000.00\nTotal samples 50000 good runs 265 bad runs 235\n2021-05-19 22:44:03\n"
     ]
    }
   ],
   "source": [
    "#define _FILE_SPECS \"-rw-r--r-- 1 chris 8007 Mar 25 12:33 cartsim_data.py\"\n",
    "#define _MAGIC_NUMBER 1147484068\n",
    "import numpy as np\n",
    "import math, os,   sys,  time\n",
    "from time import gmtime, strftime\n",
    "# from logger import logger\n",
    "from datetime import date, datetime, timezone\n",
    "import statistics as st\n",
    "import random as rn\n",
    "import matplotlib.pyplot as plt\n",
    "from numpy import random as rnn\n",
    " \n",
    "from sklearn import metrics\n",
    "import pickle\n",
    "\n",
    "#equations\n",
    "# M \\ddot P = - C( X - X_0)  - D \\dot X\n",
    "#  P = X  + Z(Y(t))\n",
    "#  Y(t)= vt\n",
    "\n",
    "#  v=60km/hour = 16.666 m / sec\n",
    "#\n",
    "#  M= 1000kg\n",
    "#  X_0 =  5cm\n",
    "#  C spring const so 1000kg @ 10 m/sec^2 gives 5 cm ie\n",
    "#    =   5 x 10e-06\n",
    "#  X roughly +- 10cm\n",
    "#  road 3 components period   1 sec, 2 sec, 4 sec (random amplitude)\n",
    "#  sin(Y/(16.666)),  cos(Y/(16.666)), sin(Y/(2*16.66)), cos(Y/(2*16.66))\n",
    "#  choose D0 to efold in 1 second ie. D/2M = 1.0 --> D=2000\n",
    "#  too small is 'bad'\n",
    "#  choose sampling rate @ 4 Hz\n",
    "#  magnitude road = +- 5 max * sin( Y / 16.66 m)\n",
    "\n",
    "#  10 minute samples = 600 x 4 points @ 4 Hz\n",
    "#\n",
    "\n",
    "def Zbase ( trigtype, period, K, Y):\n",
    "    \n",
    "    if trigtype=='sin':\n",
    "        return math.sin( K * period * Y)\n",
    "    if trigtype=='cos':\n",
    "        return math.cos( K * period * Y)\n",
    "    \n",
    "def Zbaseddot ( trigtype, period, K, Y, v):\n",
    "    \n",
    "#     d^2/dt^ (VT)=0\n",
    "    if trigtype=='sin':\n",
    "        return -math.cos( K * period * Y) * v * v * (K /period) * (K/period)\n",
    "    if trigtype=='cos':\n",
    "        return -math.sin( K * period * Y) * v * v * (K /period) * (K/period)\n",
    "    \n",
    "def Xdot(Xn, Xnm1, dT):\n",
    "    return (Xn - Xnm1)/dT\n",
    "\n",
    "def Xddot(Xn, Xnm1, Xnm2, dT):\n",
    "    return (Xn - 2 * Xnm1  + Xnm2)/(dT * dT)\n",
    "\n",
    "def getXnp1(LHS, M, D, C, Xn, Xnm1, dT):\n",
    "# solve for Xnp1\n",
    "#  LHS = M(Xnp1 - 2 Xn + Xnm1)/delT^2 + D(Xnp1 - Xnm1)/2delT + C Xn\n",
    "  \n",
    "    rval = (LHS * dT * dT - (M - D * dT/2) * Xnm1  + (2 *M - C * dT * dT) * Xn  )/(M + D * dT/2) \n",
    "    \n",
    "    lv = M* (rval - 2 * Xn + Xnm1)/(dT * dT) + D* (rval - Xnm1)/(2*dT) + C * Xn\n",
    "    \n",
    "#    print(\"check %f = %f\" % (LHS,lv))\n",
    "          \n",
    "    return  rval\n",
    "\n",
    "def getLHSval(Zddval, Ms, Vs, Cs, X0s):\n",
    "# Cs * X0 =spring force\n",
    "    return - Ms * Zddval + Cs * X0s\n",
    "\n",
    "def zRoad(coeffs, v, Y, period, maxfreq):\n",
    "    \n",
    "    zR =0\n",
    "   \n",
    "    if maxfreq >= 0.5:\n",
    "       zR = coeffs[0]* Zbaseddot('cos', period, 0.5, Y, v) + zR\n",
    "       zR = coeffs[1]* Zbaseddot('sin', period, 0.5, Y, v) + zR\n",
    "\n",
    "    if maxfreq >= 1.0:\n",
    "       zR = coeffs[2]* Zbaseddot('cos', period, 1.0, Y, v) + zR\n",
    "       zR = coeffs[3]* Zbaseddot('sin', period, 1.0, Y, v) + zR\n",
    "    \n",
    "    if maxfreq >=2.0:\n",
    "       zR = coeffs[4]* Zbaseddot('cos', period, 2.0, Y, v) + zR\n",
    "       zR = coeffs[5]* Zbaseddot('sin', period, 2.0, Y, v) + zR\n",
    "       \n",
    "    if maxfreq >=4.0:\n",
    "       zR = coeffs[6]* Zbaseddot('cos', period, 4.0, Y, v) + zR\n",
    "       zR = coeffs[7]* Zbaseddot('sin', period, 4.0, Y, v) + zR\n",
    "    \n",
    "    return zR\n",
    "\n",
    "def  getRandomCoeffs(N):\n",
    "    \n",
    "     ampChoice=[0.01, 0.02, 0.025, 0.03, 0.035]\n",
    "     coeffs=[]\n",
    "\n",
    "     for i in range(0,N):\n",
    "          rAmpl1=rn.choice(ampChoice) \n",
    "#          rAmpl1=rAmpl\n",
    "          coeffs.append(rAmpl1)\n",
    "          \n",
    "     return coeffs\n",
    " \n",
    " \n",
    "\n",
    "def  compute_sim(M, D0, V, C, X0, delT, period, maxfreq, coeffs, topsample):\n",
    "    \n",
    "    Y=0\n",
    "# start with spring at rest\n",
    "    Xnp1=X0\n",
    "    Xn=X0\n",
    "    Xnm1=X0\n",
    "\n",
    "\n",
    "    springPos=[]\n",
    "    timeVal=[]\n",
    "    roadSurf=[]\n",
    "    \n",
    "     \n",
    "    for i in range(0, topsample):\n",
    "    \n",
    "        t= i * delT\n",
    "        timeVal.append(t)\n",
    "#        print(\"                T=%8.2f\" % t)\n",
    "    \n",
    "        Y= V * t  \n",
    "    \n",
    "        Zddval= zRoad(coeffs, V, Y, period, maxfreq)\n",
    "    \n",
    "#        print(\"Zddval %f\" % Zddval)\n",
    "    \n",
    "# LHS= -M (ddot (Z(Y))) + CX0\n",
    "        LHS= getLHSval(Zddval, M, V, C, X0)\n",
    "        roadSurf.append(LHS)\n",
    "    \n",
    "        Xnp1 = getXnp1(LHS, M, D0, C, Xn, Xnm1, delT)\n",
    "        springPos.append(Xnp1)\n",
    "    \n",
    "#        print(\"Xnp1 %8.3f  Xn %8.3f Xnm1 %8.3f\" % (Xnp1, Xn, Xnm1))\n",
    "    \n",
    "        Xnm1=Xn\n",
    "        Xn=Xnp1\n",
    "        \n",
    "    return [roadSurf, timeVal, springPos, t]\n",
    "\n",
    "def add_sample(M, D0, V, C, X0, delT, period, maxfreq, botsample, topsample, lval,Ncoeffs, Rcoeffs, road_input_type):\n",
    " # compute discriminant\n",
    "    disc= D0*D0 - 4 * M * C   \n",
    "    \n",
    "    [roadSurf, timeVals, springPos, tmax]= compute_sim(M, D0, V, C, X0, delT, period, maxfreq, Rcoeffs, topsample)\n",
    "\n",
    "    yval=[]\n",
    "    Xdat=[]\n",
    "\n",
    "#    print(\"sample D0=%d label=%s\" % (D0,lval )) \n",
    "#    print(\"D=%12.2f disc  %12.2f   maxfreq= %f\" % (D0, disc,   maxfreq))\n",
    "#    if disc < 0:\n",
    "#        print(\"sqrt = %f\" % math.sqrt(-disc))\n",
    " \n",
    "# assume botsample is > 3\n",
    "\n",
    "    if road_input_type=='vibration':\n",
    "        tupleLen=8\n",
    "    elif road_input_type=='surface':\n",
    "        tupleLen=2\n",
    "    else:\n",
    "        print(\"unknown road_type %s\" % road_type)\n",
    "        tupleLen=2\n",
    " \n",
    "# in this case include roadSurf = LHS as variable\n",
    "    xnorm=10000 \n",
    "    for i in range(botsample,topsample):\n",
    "        if tupleLen==2:\n",
    "# road input\n",
    "           Xdat.append([roadSurf[i]/xnorm, springPos[i-2], springPos[i-1], springPos[i]])\n",
    "# in vehicle vibration\n",
    "        elif tupleLen==5:\n",
    "           Xdat.append([springPos[i-5], springPos[i-4], springPos[i-3], springPos[i-2], springPos[i-1], springPos[i]])\n",
    "#  in vehicle vibration (long)\n",
    "        elif tupleLen==8:\n",
    "           Xdat.append([springPos[-8], springPos[-7], springPos[-6], springPos[i-5], springPos[i-4], springPos[i-3], springPos[i-2], springPos[i-1], springPos[i]])\n",
    "        else:\n",
    "            print(\"Unsupported tupleLen %d\" % tupleLen)\n",
    "            return [[],[]]\n",
    "        \n",
    "        yval.append(lval)\n",
    " \n",
    "    return [Xdat, yval]\n",
    "    \n",
    "\n",
    "# mass    \n",
    "M=2000 \n",
    "#   5cm compression\n",
    "X0= 0.05\n",
    "# spring const    \n",
    "\n",
    "C= 0.6  * 10e+04\n",
    "delT=0.25\n",
    "# interesting values 500, 5000, 15000, 25000\n",
    " \n",
    "# damping\n",
    "Dvalues=[5000, 5500, 6000, 6500, 4500, 4000, 3500, 500, 600, 700, 800, 400, 300, 200]\n",
    "\n",
    "LABELvalues=['good','good', 'good', 'good', 'good','good','good','bad','bad','bad','bad','bad','bad','bad']\n",
    "\n",
    "dindexlist=[x for x in range(0,14)]\n",
    "\n",
    " \n",
    "# car moves at 16.66 m/s\n",
    "V= 16.66 \n",
    "period= 16.66 \n",
    "maxfreq=4.0\n",
    " \n",
    "botsample=400 \n",
    "topsample=500\n",
    "Ncoeffs=8\n",
    "\n",
    "X=[]\n",
    "y=[]\n",
    "ngood=0\n",
    "nbad=0\n",
    "\n",
    "nruns=500\n",
    "testfraction=0.3\n",
    "experiment_type='random_roads'\n",
    "#experiment_type='standard_road'\n",
    "\n",
    "# initialize road\n",
    "Rcoeffs=getRandomCoeffs(Ncoeffs) \n",
    "\n",
    "ldindexlist=[x for x in range(0, 100* nruns)]\n",
    "\n",
    "for i in range(0,nruns):\n",
    "    \n",
    "           dindex=rn.choice(dindexlist)\n",
    "\n",
    "           D0=Dvalues[dindex]\n",
    "           labval=LABELvalues[dindex]\n",
    "    \n",
    " \n",
    "           if experiment_type=='random_roads':\n",
    "              Rcoeffs=getRandomCoeffs(Ncoeffs)\n",
    "              \n",
    "\n",
    " \n",
    "#  For  in vehicle vibration road_input_type='vibration'\n",
    "#  For  road input set road_input_type='surface'\n",
    "           \n",
    "           road_input_type='surface'\n",
    " \n",
    "           [Xdat, yval]= add_sample(M, D0, V, C, X0, delT, period, maxfreq, botsample, topsample, labval,Ncoeffs, Rcoeffs, road_input_type)\n",
    "           \n",
    "# [roadsurf, Xn-2, Xn-1, Xn]\n",
    "           if yval[0]=='good':\n",
    "               ngood+=1\n",
    "           if yval[0]=='bad':\n",
    "               nbad+=1\n",
    " \n",
    "           for j in range(0, len(Xdat)):\n",
    "                X.append(Xdat[j])\n",
    "                y.append(yval[j])\n",
    "                \n",
    "\n",
    "print(\"shuffling %d entries\" % len(ldindexlist))\n",
    "rn.shuffle(ldindexlist)\n",
    "# sanity check\n",
    "print(ldindexlist[0:10])\n",
    "\n",
    "X_rn=[]\n",
    "y_rn=[]\n",
    "\n",
    "for i in range(0, len(X)):\n",
    "    X_rn.append(X[ldindexlist[i]])\n",
    "    y_rn.append(y[ldindexlist[i]])\n",
    "    \n",
    "    \n",
    "           \n",
    "print(\"made %d samples with botsample %d topsample %d\" % (nruns,botsample, topsample))\n",
    "print(\"maxfreq= %8.2f M= %8.2f V=%8.2f C=%8.2f\" % (maxfreq, M, V, C))\n",
    "\n",
    "totalN=len(X)\n",
    "print(\"Total samples %d good runs %d bad runs %d\" % (totalN, ngood, nbad))\n",
    "\n",
    "#print(Xdat)\n",
    "\n",
    "print (strftime(\"%Y-%m-%d %H:%M:%S\", gmtime()))\n",
    " \n",
    "\n",
    "\n",
    "\n",
    "\n",
    " \n",
    "\n",
    "\n",
    " \n",
    "\n",
    " \n",
    "    \n",
    "    \n",
    "    \n"
   ]
  },
  {
   "cell_type": "code",
   "execution_count": 17,
   "metadata": {},
   "outputs": [],
   "source": [
    "from sklearn.model_selection import train_test_split\n",
    "\n",
    "X_train, X_test, y_train, y_test = train_test_split(X_rn, y_rn, random_state=42)"
   ]
  },
  {
   "cell_type": "code",
   "execution_count": 20,
   "metadata": {},
   "outputs": [
    {
     "output_type": "stream",
     "name": "stdout",
     "text": [
      "37500 37500\n"
     ]
    }
   ],
   "source": [
    "print(len(X_train), len(y_train))\n"
   ]
  },
  {
   "cell_type": "code",
   "execution_count": 21,
   "metadata": {},
   "outputs": [
    {
     "output_type": "execute_result",
     "data": {
      "text/plain": [
       "array([[ 1.27262918, -0.11483383,  0.94769836,  0.98701581],\n",
       "       [ 0.9108106 ,  0.5772926 ,  1.00514885,  0.41176585],\n",
       "       [-0.67410636,  1.53909548,  0.3360679 , -1.37985839],\n",
       "       ...,\n",
       "       [-0.17469505,  0.26375549,  0.21184107, -0.23138801],\n",
       "       [-1.20669643, -0.04664252, -1.07631521, -0.86824393],\n",
       "       [ 0.66724922,  0.83172868,  0.94539515, -0.08178625]])"
      ]
     },
     "metadata": {},
     "execution_count": 21
    }
   ],
   "source": [
    "from sklearn.preprocessing import StandardScaler\n",
    "X_scaler = StandardScaler().fit(X_train)\n",
    "X_train_scaled = X_scaler.transform(X_train)\n",
    "X_test_scaled = X_scaler.transform(X_test)\n",
    "X_train_scaled"
   ]
  },
  {
   "cell_type": "code",
   "execution_count": 22,
   "metadata": {},
   "outputs": [
    {
     "output_type": "execute_result",
     "data": {
      "text/plain": [
       "LogisticRegression(C=1.0, class_weight=None, dual=False, fit_intercept=True,\n",
       "                   intercept_scaling=1, l1_ratio=None, max_iter=100,\n",
       "                   multi_class='auto', n_jobs=None, penalty='l2',\n",
       "                   random_state=None, solver='lbfgs', tol=0.0001, verbose=0,\n",
       "                   warm_start=False)"
      ]
     },
     "metadata": {},
     "execution_count": 22
    }
   ],
   "source": [
    "from sklearn.linear_model import LogisticRegression\n",
    "model = LogisticRegression()\n",
    "model.fit(X_train_scaled, y_train)"
   ]
  },
  {
   "cell_type": "code",
   "execution_count": 23,
   "metadata": {},
   "outputs": [
    {
     "output_type": "execute_result",
     "data": {
      "text/plain": [
       "0.52888"
      ]
     },
     "metadata": {},
     "execution_count": 23
    }
   ],
   "source": [
    "model.score(X_test_scaled, y_test)"
   ]
  },
  {
   "cell_type": "code",
   "execution_count": 24,
   "metadata": {},
   "outputs": [
    {
     "output_type": "execute_result",
     "data": {
      "text/plain": [
       "0.5303733333333334"
      ]
     },
     "metadata": {},
     "execution_count": 24
    }
   ],
   "source": [
    "model.score(X_train_scaled, y_train)"
   ]
  },
  {
   "cell_type": "code",
   "execution_count": 25,
   "metadata": {},
   "outputs": [
    {
     "output_type": "execute_result",
     "data": {
      "text/plain": [
       "KNeighborsClassifier(algorithm='auto', leaf_size=30, metric='minkowski',\n",
       "                     metric_params=None, n_jobs=None, n_neighbors=2, p=2,\n",
       "                     weights='uniform')"
      ]
     },
     "metadata": {},
     "execution_count": 25
    }
   ],
   "source": [
    "# KNN\n",
    "from sklearn.neighbors import KNeighborsClassifier\n",
    "knn = KNeighborsClassifier(n_neighbors=2)\n",
    "knn.fit(X_train_scaled, y_train)"
   ]
  },
  {
   "cell_type": "code",
   "execution_count": 26,
   "metadata": {},
   "outputs": [
    {
     "output_type": "execute_result",
     "data": {
      "text/plain": [
       "0.97912"
      ]
     },
     "metadata": {},
     "execution_count": 26
    }
   ],
   "source": [
    "knn.score(X_test_scaled, y_test)"
   ]
  },
  {
   "cell_type": "code",
   "execution_count": 27,
   "metadata": {},
   "outputs": [
    {
     "output_type": "execute_result",
     "data": {
      "text/plain": [
       "0.9918133333333333"
      ]
     },
     "metadata": {},
     "execution_count": 27
    }
   ],
   "source": [
    "knn.score(X_train_scaled, y_train)"
   ]
  },
  {
   "cell_type": "code",
   "execution_count": 28,
   "metadata": {},
   "outputs": [
    {
     "output_type": "execute_result",
     "data": {
      "text/plain": [
       "RandomForestClassifier(bootstrap=True, ccp_alpha=0.0, class_weight=None,\n",
       "                       criterion='gini', max_depth=None, max_features='auto',\n",
       "                       max_leaf_nodes=None, max_samples=None,\n",
       "                       min_impurity_decrease=0.0, min_impurity_split=None,\n",
       "                       min_samples_leaf=1, min_samples_split=2,\n",
       "                       min_weight_fraction_leaf=0.0, n_estimators=100,\n",
       "                       n_jobs=None, oob_score=False, random_state=None,\n",
       "                       verbose=0, warm_start=False)"
      ]
     },
     "metadata": {},
     "execution_count": 28
    }
   ],
   "source": [
    "# Random Forest\n",
    "from sklearn.ensemble import RandomForestClassifier\n",
    "rf = RandomForestClassifier()\n",
    "rf.fit(X_train_scaled, y_train)"
   ]
  },
  {
   "cell_type": "code",
   "execution_count": 29,
   "metadata": {},
   "outputs": [
    {
     "output_type": "execute_result",
     "data": {
      "text/plain": [
       "0.97496"
      ]
     },
     "metadata": {},
     "execution_count": 29
    }
   ],
   "source": [
    "rf.score(X_test_scaled, y_test)"
   ]
  },
  {
   "cell_type": "code",
   "execution_count": 30,
   "metadata": {},
   "outputs": [
    {
     "output_type": "execute_result",
     "data": {
      "text/plain": [
       "0.9918133333333333"
      ]
     },
     "metadata": {},
     "execution_count": 30
    }
   ],
   "source": [
    "knn.score(X_train_scaled, y_train)"
   ]
  },
  {
   "cell_type": "code",
   "execution_count": 31,
   "metadata": {},
   "outputs": [
    {
     "output_type": "execute_result",
     "data": {
      "text/plain": [
       "array([1, 0, 1, ..., 1, 0, 0], dtype=int64)"
      ]
     },
     "metadata": {},
     "execution_count": 31
    }
   ],
   "source": [
    "from sklearn.preprocessing import LabelEncoder\n",
    "label_model = LabelEncoder()\n",
    "label_model.fit(y_rn)\n",
    "\n",
    "encoded_y = label_model.transform(y_rn)\n",
    "\n",
    "encoded_y"
   ]
  },
  {
   "cell_type": "code",
   "execution_count": 33,
   "metadata": {},
   "outputs": [
    {
     "output_type": "error",
     "ename": "ModuleNotFoundError",
     "evalue": "No module named 'keras'",
     "traceback": [
      "\u001b[1;31m---------------------------------------------------------------------------\u001b[0m",
      "\u001b[1;31mModuleNotFoundError\u001b[0m                       Traceback (most recent call last)",
      "\u001b[1;32m<ipython-input-33-95f22b3ac5bd>\u001b[0m in \u001b[0;36m<module>\u001b[1;34m\u001b[0m\n\u001b[1;32m----> 1\u001b[1;33m \u001b[1;32mfrom\u001b[0m \u001b[0mkeras\u001b[0m\u001b[1;33m.\u001b[0m\u001b[0mutils\u001b[0m \u001b[1;32mimport\u001b[0m \u001b[0mto_categorical\u001b[0m\u001b[1;33m\u001b[0m\u001b[1;33m\u001b[0m\u001b[0m\n\u001b[0m\u001b[0;32m      2\u001b[0m \u001b[1;33m\u001b[0m\u001b[0m\n\u001b[0;32m      3\u001b[0m \u001b[0mfinal_y\u001b[0m \u001b[1;33m=\u001b[0m \u001b[0mto_categorical\u001b[0m\u001b[1;33m(\u001b[0m\u001b[0mencoded_y\u001b[0m\u001b[1;33m)\u001b[0m\u001b[1;33m\u001b[0m\u001b[1;33m\u001b[0m\u001b[0m\n\u001b[0;32m      4\u001b[0m \u001b[0mfinal_y\u001b[0m\u001b[1;33m\u001b[0m\u001b[1;33m\u001b[0m\u001b[0m\n",
      "\u001b[1;31mModuleNotFoundError\u001b[0m: No module named 'keras'"
     ]
    }
   ],
   "source": [
    "from keras.utils import to_categorical\n",
    "\n",
    "final_y = to_categorical(encoded_y)\n",
    "final_y"
   ]
  },
  {
   "cell_type": "code",
   "execution_count": null,
   "metadata": {},
   "outputs": [],
   "source": [
    "# INSERT ML algorithm here (X_rn, y_rn) train vs test sets\n",
    "\n",
    "\n",
    "#Mc=metrics.confusion_matrix(y_rn[int(testfraction*totalN):], y_pred)\n",
    "\n",
    "#totalN=Mc[0][0] + Mc[0][1] + Mc[1][0] + Mc[1][1]\n",
    "#misclassifiedN = Mc[0][1] + Mc[1][0]\n",
    "\n",
    "#errorRate= misclassifiedN / totalN\n",
    "\n",
    "#print(\"confusion matrix: on test data set\")\n",
    "#print(Mc)\n",
    "\n",
    "#print(\"errorRate %5.3f\" % errorRate)\n",
    "print (strftime(\"%Y-%m-%d %H:%M:%S\", gmtime()))\n",
    "print(\"N=%d : experiment_type: %s  road_input_type: %s\" % (nruns,experiment_type, road_input_type))"
   ]
  }
 ]
}