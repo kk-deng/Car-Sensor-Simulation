{
  "nbformat": 4,
  "nbformat_minor": 0,
  "metadata": {
    "colab": {
      "name": "Pitstop.ipynb",
      "provenance": [],
      "collapsed_sections": [],
      "toc_visible": true,
      "authorship_tag": "ABX9TyOesw3YDprVpivTeKrgIC6V",
      "include_colab_link": true
    },
    "kernelspec": {
      "name": "python3",
      "display_name": "Python 3"
    },
    "language_info": {
      "name": "python"
    }
  },
  "cells": [
    {
      "cell_type": "markdown",
      "metadata": {
        "id": "view-in-github",
        "colab_type": "text"
      },
      "source": [
        "<a href=\"https://colab.research.google.com/github/kk-deng/PitStop-Sensor/blob/main/Pitstop.ipynb\" target=\"_parent\"><img src=\"https://colab.research.google.com/assets/colab-badge.svg\" alt=\"Open In Colab\"/></a>"
      ]
    },
    {
      "cell_type": "markdown",
      "metadata": {
        "id": "e3MlR2eNuxqj"
      },
      "source": [
        "# Question 1\n",
        "## \"red sky in the morning, sailor take warning\"\n",
        "\n",
        "----"
      ]
    },
    {
      "cell_type": "markdown",
      "metadata": {
        "id": "gkNoZzuwx2zA"
      },
      "source": [
        "From the definition, Independent Event means the outcome of one event does not affect the outcome of the other:\n",
        "\n",
        "$$\n",
        "P(A\\cap B) = P(A) \\cdot P(B)\n",
        "$$\n",
        "\n",
        "Where event **A** is \"red sky\" and event **B** is \"storm\".\n",
        "\n",
        "$$ P(A) = (10+40)/(10+40+X+60) = 50/(110+X) $$\n",
        "$$ P(B) = (10+X)/(10+40+X+60) = (10+X)/(110+X) $$\n",
        "$$ P(A\\cap B) = 10/(10+40+X+60) = 10/(110+X) $$\n",
        "\n",
        "Then\n",
        "$ X = 15 $ "
      ]
    },
    {
      "cell_type": "markdown",
      "metadata": {
        "id": "w1cvclCP2qXg"
      },
      "source": [
        "The Pearson's **Chi-Squared Test** can be used to determine if the storm weather is independent from the red sky."
      ]
    },
    {
      "cell_type": "code",
      "metadata": {
        "id": "31WWnBpejoAI",
        "colab": {
          "base_uri": "https://localhost:8080/"
        },
        "outputId": "34c8a176-83b9-4c9c-f124-b31e681a2bc1"
      },
      "source": [
        "import numpy as np\n",
        "from scipy.stats import chi2_contingency\n",
        "\n",
        "# Assuming the X is 5, then\n",
        "obs = np.array([[10, 5], [40, 60]])\n",
        "stat, p, dof, expected = chi2_contingency(obs)\n",
        "print('The test statistic: {:0.4f}'.format(stat))\n",
        "print('The p-value: {:0.4f}'.format(p))\n",
        "print('The degree of freedom: {:0.4f}'.format(dof))\n",
        "print('The expected value: {}'.format(expected))"
      ],
      "execution_count": 1,
      "outputs": [
        {
          "output_type": "stream",
          "text": [
            "The test statistic: 2.7672\n",
            "The p-value: 0.0962\n",
            "The degree of freedom: 1.0000\n",
            "The expected value: [[ 6.52173913  8.47826087]\n",
            " [43.47826087 56.52173913]]\n"
          ],
          "name": "stdout"
        }
      ]
    },
    {
      "cell_type": "markdown",
      "metadata": {
        "id": "glpqTiyd9uVh"
      },
      "source": [
        "$H_0$ hypothesis: Storm is indenpendent to red sky.\n",
        "\n",
        "$H_1$ hypothesis: Storm is dependent to red sky."
      ]
    },
    {
      "cell_type": "code",
      "metadata": {
        "colab": {
          "base_uri": "https://localhost:8080/"
        },
        "id": "9fyMbeVl52MU",
        "outputId": "27af4752-20ba-47bf-88ee-425ff8ab78ab"
      },
      "source": [
        "# If alpha is given as 0.05\n",
        "alpha = 0.05 \n",
        "if p <= alpha:\n",
        "  print('Reject H0 hypothesis. Dependent')\n",
        "else:\n",
        "  print('Fail to reject H0 hypothesis. Independent')"
      ],
      "execution_count": 2,
      "outputs": [
        {
          "output_type": "stream",
          "text": [
            "Fail to reject H0 hypothesis. Independent\n"
          ],
          "name": "stdout"
        }
      ]
    },
    {
      "cell_type": "markdown",
      "metadata": {
        "id": "2bya0nmb8Rpe"
      },
      "source": [
        "# Question 2\n",
        "## Testing Apple tree group differences\n",
        "\n",
        "----"
      ]
    },
    {
      "cell_type": "markdown",
      "metadata": {
        "id": "yoplrafl8aIN"
      },
      "source": [
        "Read file"
      ]
    },
    {
      "cell_type": "code",
      "metadata": {
        "colab": {
          "base_uri": "https://localhost:8080/",
          "height": 318
        },
        "id": "31JmA3q4889t",
        "outputId": "2516ab54-2dca-4124-e3a3-5e5b1235825c"
      },
      "source": [
        "import pandas as pd\n",
        "\n",
        "filepath = \"AppleData.dat\"\n",
        "df_dat = pd.read_table(filepath)\n",
        "df_dat"
      ],
      "execution_count": 3,
      "outputs": [
        {
          "output_type": "execute_result",
          "data": {
            "text/html": [
              "<div>\n",
              "<style scoped>\n",
              "    .dataframe tbody tr th:only-of-type {\n",
              "        vertical-align: middle;\n",
              "    }\n",
              "\n",
              "    .dataframe tbody tr th {\n",
              "        vertical-align: top;\n",
              "    }\n",
              "\n",
              "    .dataframe thead th {\n",
              "        text-align: right;\n",
              "    }\n",
              "</style>\n",
              "<table border=\"1\" class=\"dataframe\">\n",
              "  <thead>\n",
              "    <tr style=\"text-align: right;\">\n",
              "      <th></th>\n",
              "      <th>SEASON 1</th>\n",
              "    </tr>\n",
              "  </thead>\n",
              "  <tbody>\n",
              "    <tr>\n",
              "      <th>0</th>\n",
              "      <td>treated</td>\n",
              "    </tr>\n",
              "    <tr>\n",
              "      <th>1</th>\n",
              "      <td>[488.0, 541.0, 494.0, 536.0, 417.0, 471.0, 421...</td>\n",
              "    </tr>\n",
              "    <tr>\n",
              "      <th>2</th>\n",
              "      <td>untreated</td>\n",
              "    </tr>\n",
              "    <tr>\n",
              "      <th>3</th>\n",
              "      <td>[458.0, 583.0, 478.0, 562.0, 577.0, 399.0, 416...</td>\n",
              "    </tr>\n",
              "    <tr>\n",
              "      <th>4</th>\n",
              "      <td>SEASON 2</td>\n",
              "    </tr>\n",
              "    <tr>\n",
              "      <th>5</th>\n",
              "      <td>treated</td>\n",
              "    </tr>\n",
              "    <tr>\n",
              "      <th>6</th>\n",
              "      <td>[455.0, 435.0, 543.0, 469.0, 503.0, 458.0, 467...</td>\n",
              "    </tr>\n",
              "    <tr>\n",
              "      <th>7</th>\n",
              "      <td>untreated</td>\n",
              "    </tr>\n",
              "    <tr>\n",
              "      <th>8</th>\n",
              "      <td>[436.0, 512.0, 523.0, 444.0, 394.0, 508.0, 457...</td>\n",
              "    </tr>\n",
              "  </tbody>\n",
              "</table>\n",
              "</div>"
            ],
            "text/plain": [
              "                                            SEASON 1\n",
              "0                                            treated\n",
              "1  [488.0, 541.0, 494.0, 536.0, 417.0, 471.0, 421...\n",
              "2                                          untreated\n",
              "3  [458.0, 583.0, 478.0, 562.0, 577.0, 399.0, 416...\n",
              "4                                           SEASON 2\n",
              "5                                            treated\n",
              "6  [455.0, 435.0, 543.0, 469.0, 503.0, 458.0, 467...\n",
              "7                                          untreated\n",
              "8  [436.0, 512.0, 523.0, 444.0, 394.0, 508.0, 457..."
            ]
          },
          "metadata": {
            "tags": []
          },
          "execution_count": 3
        }
      ]
    },
    {
      "cell_type": "code",
      "metadata": {
        "id": "MEHmmWQ1BJff"
      },
      "source": [
        "def convert_to_series(n):\n",
        "  return pd.Series(df_dat.loc[n][0].replace(\"[\",\"\").replace(\"]\",\"\").split(\", \"))\n",
        "\n",
        "df = pd.DataFrame({'S1_treated': convert_to_series(1),\n",
        "                   'S1_untreated': convert_to_series(3),\n",
        "                   'S2_treated': convert_to_series(6),\n",
        "                   'S2_untreated': convert_to_series(8)})"
      ],
      "execution_count": 4,
      "outputs": []
    },
    {
      "cell_type": "code",
      "metadata": {
        "colab": {
          "base_uri": "https://localhost:8080/",
          "height": 198
        },
        "id": "2SknM-pVEY8W",
        "outputId": "1cc5318b-da5d-4025-caec-da174d9e8214"
      },
      "source": [
        "df = df.apply(pd.to_numeric)\n",
        "df.head()"
      ],
      "execution_count": 5,
      "outputs": [
        {
          "output_type": "execute_result",
          "data": {
            "text/html": [
              "<div>\n",
              "<style scoped>\n",
              "    .dataframe tbody tr th:only-of-type {\n",
              "        vertical-align: middle;\n",
              "    }\n",
              "\n",
              "    .dataframe tbody tr th {\n",
              "        vertical-align: top;\n",
              "    }\n",
              "\n",
              "    .dataframe thead th {\n",
              "        text-align: right;\n",
              "    }\n",
              "</style>\n",
              "<table border=\"1\" class=\"dataframe\">\n",
              "  <thead>\n",
              "    <tr style=\"text-align: right;\">\n",
              "      <th></th>\n",
              "      <th>S1_treated</th>\n",
              "      <th>S1_untreated</th>\n",
              "      <th>S2_treated</th>\n",
              "      <th>S2_untreated</th>\n",
              "    </tr>\n",
              "  </thead>\n",
              "  <tbody>\n",
              "    <tr>\n",
              "      <th>0</th>\n",
              "      <td>488.0</td>\n",
              "      <td>458.0</td>\n",
              "      <td>455.0</td>\n",
              "      <td>436.0</td>\n",
              "    </tr>\n",
              "    <tr>\n",
              "      <th>1</th>\n",
              "      <td>541.0</td>\n",
              "      <td>583.0</td>\n",
              "      <td>435.0</td>\n",
              "      <td>512.0</td>\n",
              "    </tr>\n",
              "    <tr>\n",
              "      <th>2</th>\n",
              "      <td>494.0</td>\n",
              "      <td>478.0</td>\n",
              "      <td>543.0</td>\n",
              "      <td>523.0</td>\n",
              "    </tr>\n",
              "    <tr>\n",
              "      <th>3</th>\n",
              "      <td>536.0</td>\n",
              "      <td>562.0</td>\n",
              "      <td>469.0</td>\n",
              "      <td>444.0</td>\n",
              "    </tr>\n",
              "    <tr>\n",
              "      <th>4</th>\n",
              "      <td>417.0</td>\n",
              "      <td>577.0</td>\n",
              "      <td>503.0</td>\n",
              "      <td>394.0</td>\n",
              "    </tr>\n",
              "  </tbody>\n",
              "</table>\n",
              "</div>"
            ],
            "text/plain": [
              "   S1_treated  S1_untreated  S2_treated  S2_untreated\n",
              "0       488.0         458.0       455.0         436.0\n",
              "1       541.0         583.0       435.0         512.0\n",
              "2       494.0         478.0       543.0         523.0\n",
              "3       536.0         562.0       469.0         444.0\n",
              "4       417.0         577.0       503.0         394.0"
            ]
          },
          "metadata": {
            "tags": []
          },
          "execution_count": 5
        }
      ]
    },
    {
      "cell_type": "markdown",
      "metadata": {
        "id": "gpOztZkxgBeT"
      },
      "source": [
        "First of all, we should check if all samples are distributed normally. A Q-Q plot (Quantile-Quantile Plot) was used to verify the distribution of samples is close to the normal distribution."
      ]
    },
    {
      "cell_type": "code",
      "metadata": {
        "colab": {
          "base_uri": "https://localhost:8080/",
          "height": 335
        },
        "id": "nPpDuvIS-wLc",
        "outputId": "44a7faf8-fd3c-4aac-db71-46cb301b0f37"
      },
      "source": [
        "from statsmodels.graphics.gofplots import qqplot\n",
        "from matplotlib import pyplot\n",
        "# q-q plot\n",
        "qqplot(df.S1_treated, line='s')\n",
        "pyplot.show()"
      ],
      "execution_count": 6,
      "outputs": [
        {
          "output_type": "stream",
          "text": [
            "/usr/local/lib/python3.7/dist-packages/statsmodels/tools/_testing.py:19: FutureWarning: pandas.util.testing is deprecated. Use the functions in the public API at pandas.testing instead.\n",
            "  import pandas.util.testing as tm\n"
          ],
          "name": "stderr"
        },
        {
          "output_type": "display_data",
          "data": {
            "image/png": "[encoded data removed]",
            "text/plain": [
              "<Figure size 432x288 with 1 Axes>"
            ]
          },
          "metadata": {
            "tags": [],
            "needs_background": "light"
          }
        }
      ]
    },
    {
      "cell_type": "markdown",
      "metadata": {
        "id": "dj0CBhqY6pYw"
      },
      "source": [
        "Let's check if two sample groups have a similar amount of variance (i.e. Homogeneity of Variance)."
      ]
    },
    {
      "cell_type": "code",
      "metadata": {
        "colab": {
          "base_uri": "https://localhost:8080/"
        },
        "id": "_8OgA-KDhsi9",
        "outputId": "4240ec54-fc0f-4d5b-c985-f19a5e91fd62"
      },
      "source": [
        "from scipy import stats\n",
        "# Season 1\n",
        "print(stats.levene(df.S1_treated, df.S1_untreated))\n",
        "\n",
        "# Season 2\n",
        "print(stats.levene(df.S2_treated, df.S2_untreated))"
      ],
      "execution_count": 7,
      "outputs": [
        {
          "output_type": "stream",
          "text": [
            "LeveneResult(statistic=0.004267968118125966, pvalue=0.9480445889021037)\n",
            "LeveneResult(statistic=2.658904987818953, pvalue=0.10618150115782979)\n"
          ],
          "name": "stdout"
        }
      ]
    },
    {
      "cell_type": "markdown",
      "metadata": {
        "id": "MtvUEtSEfvPw"
      },
      "source": [
        "Through the Levene test result, Season 1 group has a p-value (0.948) >> 0.05, and the Season 2 groupd has a p-value (0.106) > 0.05. It means it fails to reject the null hypothesis. We can consider both samples have equal variance.\n",
        "\n",
        "Finally, two groups have a similar amount of variance, we should use keep `equal_var` as default value `True`."
      ]
    },
    {
      "cell_type": "code",
      "metadata": {
        "colab": {
          "base_uri": "https://localhost:8080/"
        },
        "id": "WlKyVvH-dmmr",
        "outputId": "308e8f53-38de-4a5d-d01a-4ac0e089871a"
      },
      "source": [
        "(s1_statistic, s1_pvalue) = stats.ttest_ind(df.S1_treated, df.S1_untreated)\n",
        "print(\"statistic: {:.4f}\".format(s1_statistic))\n",
        "print(\"p value: {:.4f}\".format(s1_pvalue))"
      ],
      "execution_count": 8,
      "outputs": [
        {
          "output_type": "stream",
          "text": [
            "statistic: 0.7244\n",
            "p value: 0.4706\n"
          ],
          "name": "stdout"
        }
      ]
    },
    {
      "cell_type": "code",
      "metadata": {
        "colab": {
          "base_uri": "https://localhost:8080/"
        },
        "id": "0PAvc742fl4d",
        "outputId": "d292b7a5-d35b-4f79-c16f-a1896d80b770"
      },
      "source": [
        "(s2_statistic, s2_pvalue) = stats.ttest_ind(df.S2_treated, df.S2_untreated)\n",
        "print(\"statistic: {:.4f}\".format(s2_statistic))\n",
        "print(\"p value: {:.4f}\".format(s2_pvalue))"
      ],
      "execution_count": 9,
      "outputs": [
        {
          "output_type": "stream",
          "text": [
            "statistic: 3.1148\n",
            "p value: 0.0024\n"
          ],
          "name": "stdout"
        }
      ]
    },
    {
      "cell_type": "markdown",
      "metadata": {
        "id": "cYW6GgITgwrf"
      },
      "source": [
        "## Conclusion\n",
        "When setting the significant level $\\alpha = 0.05$, the treatments for Season 1 and Season 2 are behaving differently.\n",
        "\n",
        "From the p-value of Season 1, we can see $0.4706 >> \\alpha$. We fail to reject the null hypothesis $H_0$ (It has no statistical significance between two samples). \n",
        "\n",
        "While the p-value of Season 2 is much smaller than $\\alpha$. We have a very high confidence to reject the null hypothesis $H_0$. "
      ]
    },
    {
      "cell_type": "markdown",
      "metadata": {
        "id": "gznjZFQPedOH"
      },
      "source": [
        "# Question 3"
      ]
    },
    {
      "cell_type": "code",
      "metadata": {
        "colab": {
          "base_uri": "https://localhost:8080/",
          "height": 407
        },
        "id": "lYMU-w12efkT",
        "outputId": "e240e443-67e5-487e-fe46-4ee63c38d819"
      },
      "source": [
        "import numpy as np\n",
        "import matplotlib.pyplot as plt\n",
        "from matplotlib import style\n",
        "style.use(\"ggplot\")\n",
        "\n",
        "hosefile = \"/content/hosesvmdata.dat\"\n",
        "\n",
        "df_hose = pd.read_csv(hosefile, names=[\"f\", \"rpm\", \"label\"])\n",
        "\n",
        "df_hose\n",
        "\n"
      ],
      "execution_count": 10,
      "outputs": [
        {
          "output_type": "execute_result",
          "data": {
            "text/html": [
              "<div>\n",
              "<style scoped>\n",
              "    .dataframe tbody tr th:only-of-type {\n",
              "        vertical-align: middle;\n",
              "    }\n",
              "\n",
              "    .dataframe tbody tr th {\n",
              "        vertical-align: top;\n",
              "    }\n",
              "\n",
              "    .dataframe thead th {\n",
              "        text-align: right;\n",
              "    }\n",
              "</style>\n",
              "<table border=\"1\" class=\"dataframe\">\n",
              "  <thead>\n",
              "    <tr style=\"text-align: right;\">\n",
              "      <th></th>\n",
              "      <th>f</th>\n",
              "      <th>rpm</th>\n",
              "      <th>label</th>\n",
              "    </tr>\n",
              "  </thead>\n",
              "  <tbody>\n",
              "    <tr>\n",
              "      <th>0</th>\n",
              "      <td>15.47</td>\n",
              "      <td>1250.0</td>\n",
              "      <td>bad</td>\n",
              "    </tr>\n",
              "    <tr>\n",
              "      <th>1</th>\n",
              "      <td>15.47</td>\n",
              "      <td>1250.0</td>\n",
              "      <td>bad</td>\n",
              "    </tr>\n",
              "    <tr>\n",
              "      <th>2</th>\n",
              "      <td>15.47</td>\n",
              "      <td>1250.0</td>\n",
              "      <td>bad</td>\n",
              "    </tr>\n",
              "    <tr>\n",
              "      <th>3</th>\n",
              "      <td>15.47</td>\n",
              "      <td>1250.0</td>\n",
              "      <td>bad</td>\n",
              "    </tr>\n",
              "    <tr>\n",
              "      <th>4</th>\n",
              "      <td>15.47</td>\n",
              "      <td>1250.0</td>\n",
              "      <td>bad</td>\n",
              "    </tr>\n",
              "    <tr>\n",
              "      <th>...</th>\n",
              "      <td>...</td>\n",
              "      <td>...</td>\n",
              "      <td>...</td>\n",
              "    </tr>\n",
              "    <tr>\n",
              "      <th>31345</th>\n",
              "      <td>20.12</td>\n",
              "      <td>750.0</td>\n",
              "      <td>good</td>\n",
              "    </tr>\n",
              "    <tr>\n",
              "      <th>31346</th>\n",
              "      <td>20.12</td>\n",
              "      <td>750.0</td>\n",
              "      <td>good</td>\n",
              "    </tr>\n",
              "    <tr>\n",
              "      <th>31347</th>\n",
              "      <td>20.12</td>\n",
              "      <td>750.0</td>\n",
              "      <td>good</td>\n",
              "    </tr>\n",
              "    <tr>\n",
              "      <th>31348</th>\n",
              "      <td>20.12</td>\n",
              "      <td>750.0</td>\n",
              "      <td>good</td>\n",
              "    </tr>\n",
              "    <tr>\n",
              "      <th>31349</th>\n",
              "      <td>20.12</td>\n",
              "      <td>750.0</td>\n",
              "      <td>good</td>\n",
              "    </tr>\n",
              "  </tbody>\n",
              "</table>\n",
              "<p>31350 rows × 3 columns</p>\n",
              "</div>"
            ],
            "text/plain": [
              "           f     rpm  label\n",
              "0      15.47  1250.0    bad\n",
              "1      15.47  1250.0    bad\n",
              "2      15.47  1250.0    bad\n",
              "3      15.47  1250.0    bad\n",
              "4      15.47  1250.0    bad\n",
              "...      ...     ...    ...\n",
              "31345  20.12   750.0   good\n",
              "31346  20.12   750.0   good\n",
              "31347  20.12   750.0   good\n",
              "31348  20.12   750.0   good\n",
              "31349  20.12   750.0   good\n",
              "\n",
              "[31350 rows x 3 columns]"
            ]
          },
          "metadata": {
            "tags": []
          },
          "execution_count": 10
        }
      ]
    },
    {
      "cell_type": "code",
      "metadata": {
        "colab": {
          "base_uri": "https://localhost:8080/"
        },
        "id": "FVXJpxrKidm7",
        "outputId": "85f5a375-34f7-4c6e-bae6-bd10d94a36e6"
      },
      "source": [
        "# df_dup = df_hose[df_hose.duplicated(['f', 'rpm', 'label'])]\n",
        "after = len(df_hose[df_hose.duplicated(keep=\"first\")])\n",
        "len(df_hose) - after"
      ],
      "execution_count": 11,
      "outputs": [
        {
          "output_type": "execute_result",
          "data": {
            "text/plain": [
              "168"
            ]
          },
          "metadata": {
            "tags": []
          },
          "execution_count": 11
        }
      ]
    },
    {
      "cell_type": "code",
      "metadata": {
        "id": "foC_yVzLhBcq"
      },
      "source": [
        "y = df_hose.pop(\"label\").values\n",
        "X = df_hose.values"
      ],
      "execution_count": 12,
      "outputs": []
    },
    {
      "cell_type": "code",
      "metadata": {
        "colab": {
          "base_uri": "https://localhost:8080/"
        },
        "id": "8PUed4Z8hY8I",
        "outputId": "d95ccc9c-133d-4af3-d2c8-b8d71df25eb7"
      },
      "source": [
        "print(X.shape)\n",
        "print(y.shape)"
      ],
      "execution_count": 13,
      "outputs": [
        {
          "output_type": "stream",
          "text": [
            "(31350, 2)\n",
            "(31350,)\n"
          ],
          "name": "stdout"
        }
      ]
    },
    {
      "cell_type": "code",
      "metadata": {
        "id": "XNPSvpvqh0_K"
      },
      "source": [
        "# Split samples\n",
        "from sklearn.model_selection import train_test_split\n",
        "X_train, X_test, y_train, y_test = train_test_split(X, y, random_state=42)"
      ],
      "execution_count": 14,
      "outputs": []
    },
    {
      "cell_type": "code",
      "metadata": {
        "colab": {
          "base_uri": "https://localhost:8080/"
        },
        "id": "IbYDSnxtlv1j",
        "outputId": "4759295f-c0da-4fc8-b2b2-f3a70bc855ed"
      },
      "source": [
        "# Standardization of data\n",
        "from sklearn.preprocessing import StandardScaler\n",
        "\n",
        "X_scaler = StandardScaler().fit(X_train)\n",
        "X_train_scaled = X_scaler.transform(X_train)\n",
        "X_test_scaled = X_scaler.transform(X_test)\n",
        "X_train_scaled\n"
      ],
      "execution_count": 15,
      "outputs": [
        {
          "output_type": "execute_result",
          "data": {
            "text/plain": [
              "array([[-0.43004372,  1.18493348],\n",
              "       [ 1.59571895,  1.18493348],\n",
              "       [-0.38622052, -0.10522987],\n",
              "       ...,\n",
              "       [-0.89513508, -0.47384797],\n",
              "       [-1.6033745 , -1.21108417],\n",
              "       [ 0.35736019, -0.28953892]])"
            ]
          },
          "metadata": {
            "tags": []
          },
          "execution_count": 15
        }
      ]
    },
    {
      "cell_type": "code",
      "metadata": {
        "colab": {
          "base_uri": "https://localhost:8080/"
        },
        "id": "pHXwYZvciMbV",
        "outputId": "6ae67ccc-b87e-4e91-ca5a-3d5696e29655"
      },
      "source": [
        "print(X_train.shape)\n",
        "print(y_train.shape)"
      ],
      "execution_count": 16,
      "outputs": [
        {
          "output_type": "stream",
          "text": [
            "(23512, 2)\n",
            "(23512,)\n"
          ],
          "name": "stdout"
        }
      ]
    },
    {
      "cell_type": "code",
      "metadata": {
        "colab": {
          "base_uri": "https://localhost:8080/"
        },
        "id": "QJ0xmO5ZiYEv",
        "outputId": "798b59dc-9776-45ca-a251-5c3410d207e6"
      },
      "source": [
        "from sklearn.svm import SVC\n",
        "svc = SVC()\n",
        "svc.get_params()"
      ],
      "execution_count": 19,
      "outputs": [
        {
          "output_type": "execute_result",
          "data": {
            "text/plain": [
              "{'C': 1.0,\n",
              " 'break_ties': False,\n",
              " 'cache_size': 200,\n",
              " 'class_weight': None,\n",
              " 'coef0': 0.0,\n",
              " 'decision_function_shape': 'ovr',\n",
              " 'degree': 3,\n",
              " 'gamma': 'scale',\n",
              " 'kernel': 'rbf',\n",
              " 'max_iter': -1,\n",
              " 'probability': False,\n",
              " 'random_state': None,\n",
              " 'shrinking': True,\n",
              " 'tol': 0.001,\n",
              " 'verbose': False}"
            ]
          },
          "metadata": {
            "tags": []
          },
          "execution_count": 19
        }
      ]
    },
    {
      "cell_type": "code",
      "metadata": {
        "id": "l7ytT7Fmnd9e"
      },
      "source": [
        "base_model = svc.fit(X_train_scaled, y_train)"
      ],
      "execution_count": 23,
      "outputs": []
    },
    {
      "cell_type": "code",
      "metadata": {
        "id": "tGtiMOm5o5zb"
      },
      "source": [
        "y_test_pred = svc.predict(X_test_scaled)"
      ],
      "execution_count": 28,
      "outputs": []
    },
    {
      "cell_type": "code",
      "metadata": {
        "colab": {
          "base_uri": "https://localhost:8080/"
        },
        "id": "IQv0qeNcpCPr",
        "outputId": "f69635ae-9cd1-46e2-f24f-ea9e86eba349"
      },
      "source": [
        "from sklearn.metrics import accuracy_score, classification_report, confusion_matrix, roc_curve, roc_auc_score\n",
        "accuracy_score(y_test, y_test_pred)"
      ],
      "execution_count": 30,
      "outputs": [
        {
          "output_type": "execute_result",
          "data": {
            "text/plain": [
              "1.0"
            ]
          },
          "metadata": {
            "tags": []
          },
          "execution_count": 30
        }
      ]
    },
    {
      "cell_type": "code",
      "metadata": {
        "colab": {
          "base_uri": "https://localhost:8080/"
        },
        "id": "1M9J21f4pvXf",
        "outputId": "28fa65c2-94f2-4018-8fde-49c2fbc546e1"
      },
      "source": [
        "confusion_matrix(y_test, y_test_pred)"
      ],
      "execution_count": 31,
      "outputs": [
        {
          "output_type": "execute_result",
          "data": {
            "text/plain": [
              "array([[4345,    0],\n",
              "       [   0, 3493]])"
            ]
          },
          "metadata": {
            "tags": []
          },
          "execution_count": 31
        }
      ]
    },
    {
      "cell_type": "code",
      "metadata": {
        "id": "mIGKs6B-npbK"
      },
      "source": [
        "acc_trani vin = svc.score(X_train_scaled, y_train)\n",
        "acc_test = svc.score(X_test_scaled, y_test)"
      ],
      "execution_count": 26,
      "outputs": []
    },
    {
      "cell_type": "code",
      "metadata": {
        "colab": {
          "base_uri": "https://localhost:8080/"
        },
        "id": "GeDM6s-Eompd",
        "outputId": "5dc873c4-f327-4b4a-da51-83e2bfc23fb9"
      },
      "source": [
        "print(acc_train, acc_test)"
      ],
      "execution_count": 27,
      "outputs": [
        {
          "output_type": "stream",
          "text": [
            "1.0 1.0\n"
          ],
          "name": "stdout"
        }
      ]
    },
    {
      "cell_type": "code",
      "metadata": {
        "id": "6wQiWtoNfYu5"
      },
      "source": [
        "# from sklearn.svm import SVC\n",
        "# model = SVC(kernel=\"linear\")\n",
        "# model.fit(X_train, y_train)"
      ],
      "execution_count": 17,
      "outputs": []
    }
  ]
}