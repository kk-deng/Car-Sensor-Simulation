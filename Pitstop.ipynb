{
  "nbformat": 4,
  "nbformat_minor": 0,
  "metadata": {
    "colab": {
      "name": "Pitstop.ipynb",
      "provenance": [],
      "collapsed_sections": [],
      "toc_visible": true
    },
    "kernelspec": {
      "name": "python3",
      "display_name": "Python 3"
    },
    "language_info": {
      "name": "python"
    }
  },
  "cells": [
    {
      "cell_type": "markdown",
      "metadata": {
        "id": "e3MlR2eNuxqj"
      },
      "source": [
        "# Question 1\n",
        "## \"red sky in the morning, sailor take warning\"\n",
        "\n",
        "----"
      ]
    },
    {
      "cell_type": "markdown",
      "metadata": {
        "id": "gkNoZzuwx2zA"
      },
      "source": [
        "From the definition, Independent Event means the outcome of one event does not affect the outcome of the other:\n",
        "\n",
        "$$\n",
        "P(A\\cap B) = P(A) \\cdot P(B)\n",
        "$$\n",
        "\n",
        "Where event **A** is \"red sky\" and event **B** is \"storm\".\n",
        "\n",
        "$$ P(A) = (10+40)/(10+40+X+60) = 50/(110+X) $$\n",
        "$$ P(B) = (10+X)/(10+40+X+60) = (10+X)/(110+X) $$\n",
        "$$ P(A\\cap B) = 10/(10+40+X+60) = 10/(110+X) $$\n",
        "\n",
        "Then\n",
        "$ X = 15 $ "
      ]
    },
    {
      "cell_type": "markdown",
      "metadata": {
        "id": "w1cvclCP2qXg"
      },
      "source": [
        "The Pearson's **Chi-Squared Test** can be used to determine if the storm weather is independent from the red sky."
      ]
    },
    {
      "cell_type": "code",
      "metadata": {
        "id": "31WWnBpejoAI",
        "colab": {
          "base_uri": "https://localhost:8080/",
          "height": 0
        },
        "outputId": "4004ece6-7254-4305-fab0-558a89953fb2"
      },
      "source": [
        "import numpy as np\n",
        "from scipy.stats import chi2_contingency\n",
        "\n",
        "# Assuming the X is 5, then\n",
        "obs = np.array([[10, 5], [40, 60]])\n",
        "stat, p, dof, expected = chi2_contingency(obs)\n",
        "print('The test statistic: {:0.4f}'.format(stat))\n",
        "print('The p-value: {:0.4f}'.format(p))\n",
        "print('The degree of freedom: {:0.4f}'.format(dof))\n",
        "print('The expected value: {}'.format(expected))"
      ],
      "execution_count": 20,
      "outputs": [
        {
          "output_type": "stream",
          "text": [
            "The test statistic: 2.7672\n",
            "The p-value: 0.0962\n",
            "The degree of freedom: 1.0000\n",
            "The expected value: [[ 6.52173913  8.47826087]\n",
            " [43.47826087 56.52173913]]\n"
          ],
          "name": "stdout"
        }
      ]
    },
    {
      "cell_type": "markdown",
      "metadata": {
        "id": "glpqTiyd9uVh"
      },
      "source": [
        "$H_0$ hypothesis: Storm is indenpendent to red sky.\n",
        "\n",
        "$H_1$ hypothesis: Storm is dependent to red sky."
      ]
    },
    {
      "cell_type": "code",
      "metadata": {
        "colab": {
          "base_uri": "https://localhost:8080/",
          "height": 0
        },
        "id": "9fyMbeVl52MU",
        "outputId": "44b6c8c3-eea0-4ab1-9b78-efb7660ee417"
      },
      "source": [
        "# If alpha is given as 0.05\n",
        "alpha = 0.05 \n",
        "if p <= alpha:\n",
        "  print('Reject H0 hypothesis. Dependent')\n",
        "else:\n",
        "  print('Fail to reject H0 hypothesis. Independent')"
      ],
      "execution_count": 21,
      "outputs": [
        {
          "output_type": "stream",
          "text": [
            "Fail to reject H0 hypothesis. Independent\n"
          ],
          "name": "stdout"
        }
      ]
    },
    {
      "cell_type": "markdown",
      "metadata": {
        "id": "2bya0nmb8Rpe"
      },
      "source": [
        "# Question 2\n",
        "## Testing Apple tree group differences\n",
        "\n",
        "----"
      ]
    },
    {
      "cell_type": "markdown",
      "metadata": {
        "id": "yoplrafl8aIN"
      },
      "source": [
        "Read file"
      ]
    },
    {
      "cell_type": "code",
      "metadata": {
        "colab": {
          "base_uri": "https://localhost:8080/",
          "height": 318
        },
        "id": "31JmA3q4889t",
        "outputId": "fea4cece-7fa1-464e-e668-cabeb78bda4f"
      },
      "source": [
        "import pandas as pd\n",
        "\n",
        "filepath = \"AppleData.dat\"\n",
        "df_dat = pd.read_table(filepath)\n",
        "df_dat"
      ],
      "execution_count": 75,
      "outputs": [
        {
          "output_type": "execute_result",
          "data": {
            "text/html": [
              "<div>\n",
              "<style scoped>\n",
              "    .dataframe tbody tr th:only-of-type {\n",
              "        vertical-align: middle;\n",
              "    }\n",
              "\n",
              "    .dataframe tbody tr th {\n",
              "        vertical-align: top;\n",
              "    }\n",
              "\n",
              "    .dataframe thead th {\n",
              "        text-align: right;\n",
              "    }\n",
              "</style>\n",
              "<table border=\"1\" class=\"dataframe\">\n",
              "  <thead>\n",
              "    <tr style=\"text-align: right;\">\n",
              "      <th></th>\n",
              "      <th>SEASON 1</th>\n",
              "    </tr>\n",
              "  </thead>\n",
              "  <tbody>\n",
              "    <tr>\n",
              "      <th>0</th>\n",
              "      <td>treated</td>\n",
              "    </tr>\n",
              "    <tr>\n",
              "      <th>1</th>\n",
              "      <td>[488.0, 541.0, 494.0, 536.0, 417.0, 471.0, 421...</td>\n",
              "    </tr>\n",
              "    <tr>\n",
              "      <th>2</th>\n",
              "      <td>untreated</td>\n",
              "    </tr>\n",
              "    <tr>\n",
              "      <th>3</th>\n",
              "      <td>[458.0, 583.0, 478.0, 562.0, 577.0, 399.0, 416...</td>\n",
              "    </tr>\n",
              "    <tr>\n",
              "      <th>4</th>\n",
              "      <td>SEASON 2</td>\n",
              "    </tr>\n",
              "    <tr>\n",
              "      <th>5</th>\n",
              "      <td>treated</td>\n",
              "    </tr>\n",
              "    <tr>\n",
              "      <th>6</th>\n",
              "      <td>[455.0, 435.0, 543.0, 469.0, 503.0, 458.0, 467...</td>\n",
              "    </tr>\n",
              "    <tr>\n",
              "      <th>7</th>\n",
              "      <td>untreated</td>\n",
              "    </tr>\n",
              "    <tr>\n",
              "      <th>8</th>\n",
              "      <td>[436.0, 512.0, 523.0, 444.0, 394.0, 508.0, 457...</td>\n",
              "    </tr>\n",
              "  </tbody>\n",
              "</table>\n",
              "</div>"
            ],
            "text/plain": [
              "                                            SEASON 1\n",
              "0                                            treated\n",
              "1  [488.0, 541.0, 494.0, 536.0, 417.0, 471.0, 421...\n",
              "2                                          untreated\n",
              "3  [458.0, 583.0, 478.0, 562.0, 577.0, 399.0, 416...\n",
              "4                                           SEASON 2\n",
              "5                                            treated\n",
              "6  [455.0, 435.0, 543.0, 469.0, 503.0, 458.0, 467...\n",
              "7                                          untreated\n",
              "8  [436.0, 512.0, 523.0, 444.0, 394.0, 508.0, 457..."
            ]
          },
          "metadata": {
            "tags": []
          },
          "execution_count": 75
        }
      ]
    },
    {
      "cell_type": "code",
      "metadata": {
        "id": "MEHmmWQ1BJff"
      },
      "source": [
        "def convert_to_series(n):\n",
        "  return pd.Series(df_dat.loc[n][0].replace(\"[\",\"\").replace(\"]\",\"\").split(\", \"))\n",
        "\n",
        "df = pd.DataFrame({'S1_treated': convert_to_series(1),\n",
        "                   'S1_untreated': convert_to_series(3),\n",
        "                   'S2_treated': convert_to_series(6),\n",
        "                   'S2_untreated': convert_to_series(8)})"
      ],
      "execution_count": 76,
      "outputs": []
    },
    {
      "cell_type": "code",
      "metadata": {
        "colab": {
          "base_uri": "https://localhost:8080/",
          "height": 198
        },
        "id": "2SknM-pVEY8W",
        "outputId": "b38cac94-72ba-4098-ba46-b835eaaa13f3"
      },
      "source": [
        "df = df.apply(pd.to_numeric)\n",
        "df.head()"
      ],
      "execution_count": 87,
      "outputs": [
        {
          "output_type": "execute_result",
          "data": {
            "text/html": [
              "<div>\n",
              "<style scoped>\n",
              "    .dataframe tbody tr th:only-of-type {\n",
              "        vertical-align: middle;\n",
              "    }\n",
              "\n",
              "    .dataframe tbody tr th {\n",
              "        vertical-align: top;\n",
              "    }\n",
              "\n",
              "    .dataframe thead th {\n",
              "        text-align: right;\n",
              "    }\n",
              "</style>\n",
              "<table border=\"1\" class=\"dataframe\">\n",
              "  <thead>\n",
              "    <tr style=\"text-align: right;\">\n",
              "      <th></th>\n",
              "      <th>S1_treated</th>\n",
              "      <th>S1_untreated</th>\n",
              "      <th>S2_treated</th>\n",
              "      <th>S2_untreated</th>\n",
              "    </tr>\n",
              "  </thead>\n",
              "  <tbody>\n",
              "    <tr>\n",
              "      <th>0</th>\n",
              "      <td>488.0</td>\n",
              "      <td>458.0</td>\n",
              "      <td>455.0</td>\n",
              "      <td>436.0</td>\n",
              "    </tr>\n",
              "    <tr>\n",
              "      <th>1</th>\n",
              "      <td>541.0</td>\n",
              "      <td>583.0</td>\n",
              "      <td>435.0</td>\n",
              "      <td>512.0</td>\n",
              "    </tr>\n",
              "    <tr>\n",
              "      <th>2</th>\n",
              "      <td>494.0</td>\n",
              "      <td>478.0</td>\n",
              "      <td>543.0</td>\n",
              "      <td>523.0</td>\n",
              "    </tr>\n",
              "    <tr>\n",
              "      <th>3</th>\n",
              "      <td>536.0</td>\n",
              "      <td>562.0</td>\n",
              "      <td>469.0</td>\n",
              "      <td>444.0</td>\n",
              "    </tr>\n",
              "    <tr>\n",
              "      <th>4</th>\n",
              "      <td>417.0</td>\n",
              "      <td>577.0</td>\n",
              "      <td>503.0</td>\n",
              "      <td>394.0</td>\n",
              "    </tr>\n",
              "  </tbody>\n",
              "</table>\n",
              "</div>"
            ],
            "text/plain": [
              "   S1_treated  S1_untreated  S2_treated  S2_untreated\n",
              "0       488.0         458.0       455.0         436.0\n",
              "1       541.0         583.0       435.0         512.0\n",
              "2       494.0         478.0       543.0         523.0\n",
              "3       536.0         562.0       469.0         444.0\n",
              "4       417.0         577.0       503.0         394.0"
            ]
          },
          "metadata": {
            "tags": []
          },
          "execution_count": 87
        }
      ]
    },
    {
      "cell_type": "code",
      "metadata": {
        "colab": {
          "base_uri": "https://localhost:8080/",
          "height": 0
        },
        "id": "QC-Swc06Hz_4",
        "outputId": "438e477a-6ec7-4d0a-ccb9-08cfb6cc3c25"
      },
      "source": [
        "from scipy import stats\n",
        "\n",
        "(s1_statistic, s1_pvalue) = stats.ttest_ind(df.S1_treated, df.S1_untreated)\n",
        "print(\"statistic: {:.4f}\".format(s1_statistic))\n",
        "print(\"p value: {:.4f}\".format(s1_pvalue))"
      ],
      "execution_count": 91,
      "outputs": [
        {
          "output_type": "stream",
          "text": [
            "statistic: 0.7244\n",
            "p value: 0.4706\n"
          ],
          "name": "stdout"
        }
      ]
    },
    {
      "cell_type": "code",
      "metadata": {
        "colab": {
          "base_uri": "https://localhost:8080/",
          "height": 0
        },
        "id": "DaDLzlIdJrG5",
        "outputId": "302a790a-0bbb-4d1f-9a4f-6b8ceece36a0"
      },
      "source": [
        "(s2_statistic, s2_pvalue) = stats.ttest_ind(df.S2_treated, df.S2_untreated)\n",
        "print(\"statistic: {:.4f}\".format(s2_statistic))\n",
        "print(\"p value: {:.4f}\".format(s2_pvalue))"
      ],
      "execution_count": 90,
      "outputs": [
        {
          "output_type": "stream",
          "text": [
            "statistic: 3.1148\n",
            "p value: 0.0024\n"
          ],
          "name": "stdout"
        }
      ]
    }
  ]
}